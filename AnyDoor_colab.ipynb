{
  "cells": [
    {
      "cell_type": "markdown",
      "metadata": {
        "id": "view-in-github"
      },
      "source": [
        "[![Open In Colab](https://colab.research.google.com/assets/colab-badge.svg)](https://colab.research.google.com/github/camenduru/AnyDoor-colab/blob/main/AnyDoor_colab.ipynb)"
      ]
    },
    {
      "cell_type": "code",
      "execution_count": null,
      "metadata": {
        "id": "VjYy0F2gZIPR"
      },
      "outputs": [],
      "source": [
        "%cd /content\n",
        "!git clone -b dev https://github.com/camenduru/AnyDoor\n",
        "%cd /content/AnyDoor\n",
        "\n",
        "!pip install -q einops fvcore gradio omegaconf pytorch_lightning share submitit timm torchmetrics open_clip_torch\n",
        "# !pip install -q xformers\n",
        "\n",
        "!apt-get -y install -qq aria2\n",
        "# !aria2c --console-log-level=error -c -x 16 -s 16 -k 1M https://huggingface.co/camenduru/AnyDoor/resolve/main/dinov2_vitl14_pretrain.pth -d /content/model -o dinov2_vitl14_pretrain.pth\n",
        "!aria2c --console-log-level=error -c -x 16 -s 16 -k 1M https://huggingface.co/camenduru/AnyDoor/resolve/main/dinov2_vitg14_pretrain.pth -d /content/model -o dinov2_vitg14_pretrain.pth\n",
        "\n",
        "!python run_gradio_demo.py"
      ]
    }
  ],
  "metadata": {
    "accelerator": "GPU",
    "colab": {
      "gpuType": "T4",
      "provenance": []
    },
    "kernelspec": {
      "display_name": "Python 3",
      "name": "python3"
    },
    "language_info": {
      "name": "python"
    }
  },
  "nbformat": 4,
  "nbformat_minor": 0
}
